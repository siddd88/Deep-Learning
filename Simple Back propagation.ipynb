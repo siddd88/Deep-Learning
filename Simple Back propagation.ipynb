{
 "cells": [
  {
   "cell_type": "code",
   "execution_count": 13,
   "metadata": {},
   "outputs": [],
   "source": [
    "import numpy as np"
   ]
  },
  {
   "cell_type": "code",
   "execution_count": 26,
   "metadata": {},
   "outputs": [],
   "source": [
    "def sigmoid(x,derive=False) : \n",
    "    \n",
    "    if derive : \n",
    "        \n",
    "        return x*(1-x) \n",
    "    \n",
    "    return 1/(1+np.exp(-x))"
   ]
  },
  {
   "cell_type": "code",
   "execution_count": 15,
   "metadata": {},
   "outputs": [],
   "source": [
    "#Input array \n",
    "X = np.array([  [0,0,1],\n",
    "                [0,1,1],\n",
    "                [1,0,1],\n",
    "                [1,1,1] ])"
   ]
  },
  {
   "cell_type": "code",
   "execution_count": 16,
   "metadata": {},
   "outputs": [],
   "source": [
    "#output \n",
    "y = np.array([[0,0,1,1]]).T"
   ]
  },
  {
   "cell_type": "code",
   "execution_count": 19,
   "metadata": {},
   "outputs": [],
   "source": [
    "#Initialize the weights to small random numbers \n",
    "w = 2*np.random.random((3,1)) - 1"
   ]
  },
  {
   "cell_type": "code",
   "execution_count": 34,
   "metadata": {},
   "outputs": [
    {
     "name": "stdout",
     "output_type": "stream",
     "text": [
      "Output after training\n",
      "[0.00427855] [-1.82276862e-05]\n",
      "[0.00348708] [-1.2117333e-05]\n",
      "[0.99715511] [8.07037179e-06]\n",
      "[0.99650889] [1.21453107e-05]\n"
     ]
    }
   ],
   "source": [
    "for iter in range(10000) : \n",
    "    \n",
    "    y_pred = sigmoid(np.dot(X,w))\n",
    "    \n",
    "    #difference between predicted output and the real output - error \n",
    "    error = y - y_pred \n",
    "    \n",
    "    # Multiply the error with the slope at the predicted value - y_pred \n",
    "    w_delta = error*sigmoid(y_pred,derive=True)\n",
    "    \n",
    "    w += np.dot(X.T,w_delta)\n",
    "    \n",
    "print(\"Output after training\") \n",
    "for i,y in zip(y_pred,w_delta) : \n",
    "    print(i,y)\n",
    "    "
   ]
  },
  {
   "cell_type": "code",
   "execution_count": 37,
   "metadata": {},
   "outputs": [
    {
     "data": {
      "text/plain": [
       "array([[0.00427855],\n",
       "       [0.00348708],\n",
       "       [0.99715511],\n",
       "       [0.99650889]])"
      ]
     },
     "execution_count": 37,
     "metadata": {},
     "output_type": "execute_result"
    }
   ],
   "source": [
    "y_pred"
   ]
  },
  {
   "cell_type": "code",
   "execution_count": null,
   "metadata": {},
   "outputs": [],
   "source": []
  }
 ],
 "metadata": {
  "kernelspec": {
   "display_name": "Python 3",
   "language": "python",
   "name": "python3"
  },
  "language_info": {
   "codemirror_mode": {
    "name": "ipython",
    "version": 3
   },
   "file_extension": ".py",
   "mimetype": "text/x-python",
   "name": "python",
   "nbconvert_exporter": "python",
   "pygments_lexer": "ipython3",
   "version": "3.5.4"
  }
 },
 "nbformat": 4,
 "nbformat_minor": 2
}
