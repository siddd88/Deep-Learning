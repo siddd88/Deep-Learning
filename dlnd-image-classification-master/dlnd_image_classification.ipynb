{
 "cells": [
  {
   "cell_type": "markdown",
   "metadata": {
    "collapsed": true,
    "deletable": true,
    "editable": true
   },
   "source": [
    "# Image Classification\n",
    "In this project, you'll classify images from the [CIFAR-10 dataset](https://www.cs.toronto.edu/~kriz/cifar.html).  The dataset consists of airplanes, dogs, cats, and other objects. You'll preprocess the images, then train a convolutional neural network on all the samples. The images need to be normalized and the labels need to be one-hot encoded.  You'll get to apply what you learned and build a convolutional, max pooling, dropout, and fully connected layers.  At the end, you'll get to see your neural network's predictions on the sample images.\n",
    "## Get the Data\n",
    "Run the following cell to download the [CIFAR-10 dataset for python](https://www.cs.toronto.edu/~kriz/cifar-10-python.tar.gz)."
   ]
  },
  {
   "cell_type": "code",
   "execution_count": 1,
   "metadata": {
    "collapsed": false,
    "deletable": true,
    "editable": true
   },
   "outputs": [
    {
     "name": "stdout",
     "output_type": "stream",
     "text": [
      "All files found!\n"
     ]
    }
   ],
   "source": [
    "\"\"\"\n",
    "DON'T MODIFY ANYTHING IN THIS CELL THAT IS BELOW THIS LINE\n",
    "\"\"\"\n",
    "from urllib.request import urlretrieve\n",
    "from os.path import isfile, isdir\n",
    "from tqdm import tqdm\n",
    "import problem_unittests as tests\n",
    "import tarfile\n",
    "\n",
    "cifar10_dataset_folder_path = 'cifar-10-batches-py'\n",
    "\n",
    "class DLProgress(tqdm):\n",
    "    last_block = 0\n",
    "\n",
    "    def hook(self, block_num=1, block_size=1, total_size=None, verify=False):\n",
    "        self.total = total_size\n",
    "        self.update((block_num - self.last_block) * block_size)\n",
    "        self.last_block = block_num\n",
    "\n",
    "if not isfile('cifar-10-python.tar.gz'):\n",
    "    with DLProgress(unit='B', unit_scale=True, miniters=1, desc='CIFAR-10 Dataset') as pbar:\n",
    "        urlretrieve(\n",
    "            'https://www.cs.toronto.edu/~kriz/cifar-10-python.tar.gz',\n",
    "            'cifar-10-python.tar.gz',\n",
    "            pbar.hook)\n",
    "\n",
    "if not isdir(cifar10_dataset_folder_path):\n",
    "    with tarfile.open('cifar-10-python.tar.gz') as tar:\n",
    "        tar.extractall()\n",
    "        tar.close()\n",
    "\n",
    "\n",
    "tests.test_folder_path(cifar10_dataset_folder_path)"
   ]
  },
  {
   "cell_type": "markdown",
   "metadata": {
    "deletable": true,
    "editable": true
   },
   "source": [
    "## Explore the Data\n",
    "The dataset is broken into batches to prevent your machine from running out of memory.  The CIFAR-10 dataset consists of 5 batches, named `data_batch_1`, `data_batch_2`, etc.. Each batch contains the labels and images that are one of the following:\n",
    "* airplane\n",
    "* automobile\n",
    "* bird\n",
    "* cat\n",
    "* deer\n",
    "* dog\n",
    "* frog\n",
    "* horse\n",
    "* ship\n",
    "* truck\n",
    "\n",
    "Understanding a dataset is part of making predictions on the data.  Play around with the code cell below by changing the `batch_id` and `sample_id`. The `batch_id` is the id for a batch (1-5). The `sample_id` is the id for a image and label pair in the batch.\n",
    "\n",
    "Ask yourself \"What are all possible labels?\", \"What is the range of values for the image data?\", \"Are the labels in order or random?\".  Answers to questions like these will help you preprocess the data and end up with better predictions."
   ]
  },
  {
   "cell_type": "code",
   "execution_count": 2,
   "metadata": {
    "collapsed": false,
    "deletable": true,
    "editable": true
   },
   "outputs": [
    {
     "name": "stdout",
     "output_type": "stream",
     "text": [
      "\n",
      "Stats of batch 2:\n",
      "Samples: 10000\n",
      "Label Counts: {0: 984, 1: 1007, 2: 1010, 3: 995, 4: 1010, 5: 988, 6: 1008, 7: 1026, 8: 987, 9: 985}\n",
      "First 20 Labels: [1, 6, 6, 8, 8, 3, 4, 6, 0, 6, 0, 3, 6, 6, 5, 4, 8, 3, 2, 6]\n",
      "\n",
      "Example of Image 3:\n",
      "Image - Min Value: 4 Max Value: 255\n",
      "Image - Shape: (32, 32, 3)\n",
      "Label - Label Id: 8 Name: ship\n"
     ]
    },
    {
     "data": {
      "image/png": "[encoded data removed]",
      "text/plain": [
       "<matplotlib.figure.Figure at 0x10f39a908>"
      ]
     },
     "metadata": {
      "image/png": {
       "height": 250,
       "width": 253
      }
     },
     "output_type": "display_data"
    }
   ],
   "source": [
    "%matplotlib inline\n",
    "%config InlineBackend.figure_format = 'retina'\n",
    "\n",
    "import helper\n",
    "import numpy as np\n",
    "\n",
    "# Explore the dataset\n",
    "batch_id = 2\n",
    "sample_id = 3\n",
    "helper.display_stats(cifar10_dataset_folder_path, batch_id, sample_id)"
   ]
  },
  {
   "cell_type": "markdown",
   "metadata": {
    "deletable": true,
    "editable": true
   },
   "source": [
    "## Implement Preprocess Functions\n",
    "### Normalize\n",
    "In the cell below, implement the `normalize` function to take in image data, `x`, and return it as a normalized Numpy array. The values should be in the range of 0 to 1, inclusive.  The return object should be the same shape as `x`."
   ]
  },
  {
   "cell_type": "code",
   "execution_count": 3,
   "metadata": {
    "collapsed": false,
    "deletable": true,
    "editable": true,
    "scrolled": true
   },
   "outputs": [
    {
     "name": "stdout",
     "output_type": "stream",
     "text": [
      "Tests Passed\n"
     ]
    }
   ],
   "source": [
    "from sklearn.preprocessing import Normalizer as normal\n",
    "\n",
    "def normalize(x):\n",
    "    \"\"\"\n",
    "    Normalize a list of sample image data in the range of 0 to 1\n",
    "    : x: List of image data.  The image shape is (32, 32, 3)\n",
    "    : return: Numpy array of normalize data\n",
    "    \"\"\"\n",
    "    # TODO: Implement Function\n",
    "    #n = tf.reduce_max(x, reduction_indices=[1])\n",
    "    norm =np.array(x/255)\n",
    "    return norm\n",
    "\n",
    "\n",
    "\"\"\"\n",
    "DON'T MODIFY ANYTHING IN THIS CELL THAT IS BELOW THIS LINE\n",
    "\"\"\"\n",
    "tests.test_normalize(normalize)\n"
   ]
  },
  {
   "cell_type": "markdown",
   "metadata": {
    "deletable": true,
    "editable": true
   },
   "source": [
    "### One-hot encode\n",
    "Just like the previous code cell, you'll be implementing a function for preprocessing.  This time, you'll implement the `one_hot_encode` function. The input, `x`, are a list of labels.  Implement the function to return the list of labels as One-Hot encoded Numpy array.  The possible values for labels are 0 to 9. The one-hot encoding function should return the same encoding for each value between each call to `one_hot_encode`.  Make sure to save the map of encodings outside the function.\n",
    "\n",
    "Hint: Don't reinvent the wheel."
   ]
  },
  {
   "cell_type": "code",
   "execution_count": 4,
   "metadata": {
    "collapsed": false,
    "deletable": true,
    "editable": true
   },
   "outputs": [
    {
     "name": "stdout",
     "output_type": "stream",
     "text": [
      "Tests Passed\n"
     ]
    }
   ],
   "source": [
    "from sklearn.preprocessing import OneHotEncoder\n",
    "onehotEncoder = OneHotEncoder(n_values=10)\n",
    "\n",
    "def one_hot_encode(x):\n",
    "    \"\"\"\n",
    "    One hot encode a list of sample labels. Return a one-hot encoded vector for each label.\n",
    "    : x: List of sample Labels\n",
    "    : return: Numpy array of one-hot encoded labels\n",
    "    \"\"\"\n",
    "    # TODO: Implement Function\n",
    "    n = np.array(x).reshape(-1,1)\n",
    "    return onehotEncoder.fit_transform(n).toarray()\n",
    "\n",
    "\n",
    "\"\"\"\n",
    "DON'T MODIFY ANYTHING IN THIS CELL THAT IS BELOW THIS LINE\n",
    "\"\"\"\n",
    "tests.test_one_hot_encode(one_hot_encode)"
   ]
  },
  {
   "cell_type": "markdown",
   "metadata": {
    "deletable": true,
    "editable": true
   },
   "source": [
    "### Randomize Data\n",
    "As you saw from exploring the data above, the order of the samples are randomized.  It doesn't hurt to randomize it again, but you don't need to for this dataset."
   ]
  },
  {
   "cell_type": "markdown",
   "metadata": {
    "deletable": true,
    "editable": true
   },
   "source": [
    "## Preprocess all the data and save it\n",
    "Running the code cell below will preprocess all the CIFAR-10 data and save it to file. The code below also uses 10% of the training data for validation."
   ]
  },
  {
   "cell_type": "code",
   "execution_count": 5,
   "metadata": {
    "collapsed": false,
    "deletable": true,
    "editable": true
   },
   "outputs": [],
   "source": [
    "\"\"\"\n",
    "DON'T MODIFY ANYTHING IN THIS CELL\n",
    "\"\"\"\n",
    "# Preprocess Training, Validation, and Testing Data\n",
    "helper.preprocess_and_save_data(cifar10_dataset_folder_path, normalize, one_hot_encode)"
   ]
  },
  {
   "cell_type": "markdown",
   "metadata": {
    "deletable": true,
    "editable": true
   },
   "source": [
    "# Check Point\n",
    "This is your first checkpoint.  If you ever decide to come back to this notebook or have to restart the notebook, you can start from here.  The preprocessed data has been saved to disk."
   ]
  },
  {
   "cell_type": "code",
   "execution_count": 6,
   "metadata": {
    "collapsed": true,
    "deletable": true,
    "editable": true
   },
   "outputs": [],
   "source": [
    "\"\"\"\n",
    "DON'T MODIFY ANYTHING IN THIS CELL\n",
    "\"\"\"\n",
    "import pickle\n",
    "import problem_unittests as tests\n",
    "import helper\n",
    "\n",
    "# Load the Preprocessed Validation data\n",
    "valid_features, valid_labels = pickle.load(open('preprocess_validation.p', mode='rb'))"
   ]
  },
  {
   "cell_type": "markdown",
   "metadata": {
    "deletable": true,
    "editable": true
   },
   "source": [
    "## Build the network\n",
    "For the neural network, you'll build each layer into a function.  Most of the code you've seen has been outside of functions. To test your code more thoroughly, we require that you put each layer in a function.  This allows us to give you better feedback and test for simple mistakes using our unittests before you submit your project.\n",
    "\n",
    "If you're finding it hard to dedicate enough time for this course a week, we've provided a small shortcut to this part of the project. In the next couple of problems, you'll have the option to use [TensorFlow Layers](https://www.tensorflow.org/api_docs/python/tf/layers) or [TensorFlow Layers (contrib)](https://www.tensorflow.org/api_guides/python/contrib.layers) to build each layer, except \"Convolutional & Max Pooling\" layer.  TF Layers is similar to Keras's and TFLearn's abstraction to layers, so it's easy to pickup.\n",
    "\n",
    "If you would like to get the most of this course, try to solve all the problems without TF Layers.  Let's begin!\n",
    "### Input\n",
    "The neural network needs to read the image data, one-hot encoded labels, and dropout keep probability. Implement the following functions\n",
    "* Implement `neural_net_image_input`\n",
    " * Return a [TF Placeholder](https://www.tensorflow.org/api_docs/python/tf/placeholder)\n",
    " * Set the shape using `image_shape` with batch size set to `None`.\n",
    " * Name the TensorFlow placeholder \"x\" using the TensorFlow `name` parameter in the [TF Placeholder](https://www.tensorflow.org/api_docs/python/tf/placeholder).\n",
    "* Implement `neural_net_label_input`\n",
    " * Return a [TF Placeholder](https://www.tensorflow.org/api_docs/python/tf/placeholder)\n",
    " * Set the shape using `n_classes` with batch size set to `None`.\n",
    " * Name the TensorFlow placeholder \"y\" using the TensorFlow `name` parameter in the [TF Placeholder](https://www.tensorflow.org/api_docs/python/tf/placeholder).\n",
    "* Implement `neural_net_keep_prob_input`\n",
    " * Return a [TF Placeholder](https://www.tensorflow.org/api_docs/python/tf/placeholder) for dropout keep probability.\n",
    " * Name the TensorFlow placeholder \"keep_prob\" using the TensorFlow `name` parameter in the [TF Placeholder](https://www.tensorflow.org/api_docs/python/tf/placeholder).\n",
    "\n",
    "These names will be used at the end of the project to load your saved model.\n",
    "\n",
    "Note: `None` for shapes in TensorFlow allow for a dynamic size."
   ]
  },
  {
   "cell_type": "code",
   "execution_count": 7,
   "metadata": {
    "collapsed": false,
    "deletable": true,
    "editable": true
   },
   "outputs": [
    {
     "name": "stdout",
     "output_type": "stream",
     "text": [
      "Image Input Tests Passed.\n",
      "Label Input Tests Passed.\n",
      "Keep Prob Tests Passed.\n"
     ]
    }
   ],
   "source": [
    "import tensorflow as tf\n",
    "\n",
    "def neural_net_image_input(image_shape):\n",
    "    \"\"\"\n",
    "    Return a Tensor for a batch of image input\n",
    "    : image_shape: Shape of the images\n",
    "    : return: Tensor for image input.\n",
    "    \"\"\"\n",
    "    # TODO: Implement Function\n",
    "    return tf.placeholder(tf.float32, shape=(None, *image_shape), name='x')\n",
    "\n",
    "\n",
    "def neural_net_label_input(n_classes):\n",
    "    \"\"\"\n",
    "    Return a Tensor for a batch of label input\n",
    "    : n_classes: Number of classes\n",
    "    : return: Tensor for label input.\n",
    "    \"\"\"\n",
    "    # TODO: Implement Function\n",
    "    return tf.placeholder(tf.float32, shape=(None, n_classes), name='y')\n",
    "\n",
    "\n",
    "def neural_net_keep_prob_input():\n",
    "    \"\"\"\n",
    "    Return a Tensor for keep probability\n",
    "    : return: Tensor for keep probability.\n",
    "    \"\"\"\n",
    "    # TODO: Implement Function\n",
    "    return tf.placeholder(tf.float32, name='keep_prob')\n",
    "\n",
    "\n",
    "\"\"\"\n",
    "DON'T MODIFY ANYTHING IN THIS CELL THAT IS BELOW THIS LINE\n",
    "\"\"\"\n",
    "tf.reset_default_graph()\n",
    "tests.test_nn_image_inputs(neural_net_image_input)\n",
    "tests.test_nn_label_inputs(neural_net_label_input)\n",
    "tests.test_nn_keep_prob_inputs(neural_net_keep_prob_input)"
   ]
  },
  {
   "cell_type": "markdown",
   "metadata": {
    "deletable": true,
    "editable": true
   },
   "source": [
    "### Convolution and Max Pooling Layer\n",
    "Convolution layers have a lot of success with images. For this code cell, you should implement the function `conv2d_maxpool` to apply convolution then max pooling:\n",
    "* Create the weight and bias using `conv_ksize`, `conv_num_outputs` and the shape of `x_tensor`.\n",
    "* Apply a convolution to `x_tensor` using weight and `conv_strides`.\n",
    " * We recommend you use same padding, but you're welcome to use any padding.\n",
    "* Add bias\n",
    "* Add a nonlinear activation to the convolution.\n",
    "* Apply Max Pooling using `pool_ksize` and `pool_strides`.\n",
    " * We recommend you use same padding, but you're welcome to use any padding.\n",
    "\n",
    "Note: You **can't** use [TensorFlow Layers](https://www.tensorflow.org/api_docs/python/tf/layers) or [TensorFlow Layers (contrib)](https://www.tensorflow.org/api_guides/python/contrib.layers) for this layer.  You're free to use any TensorFlow package for all the other layers."
   ]
  },
  {
   "cell_type": "markdown",
   "metadata": {
    "deletable": true,
    "editable": true
   },
   "source": [
    "calculating shape changes\n",
    "``` python\n",
    "out_height = ceil(float(in_height - filter_height + 1) / float(strides[1]))\n",
    "out_width  = ceil(float(in_width - filter_width + 1) / float(strides[2]))\n",
    "```"
   ]
  },
  {
   "cell_type": "code",
   "execution_count": 8,
   "metadata": {
    "collapsed": false,
    "deletable": true,
    "editable": true
   },
   "outputs": [
    {
     "name": "stdout",
     "output_type": "stream",
     "text": [
      "Tests Passed\n"
     ]
    }
   ],
   "source": [
    "def conv2d_maxpool(x_tensor, conv_num_outputs, conv_ksize, conv_strides, pool_ksize, pool_strides):\n",
    "    \"\"\"\n",
    "    Apply convolution then max pooling to x_tensor\n",
    "    :param x_tensor: TensorFlow Tensor\n",
    "    :param conv_num_outputs: Number of outputs for the convolutional layer\n",
    "    :param conv_strides: Stride 2-D Tuple for convolution\n",
    "    :param pool_ksize: kernal size 2-D Tuple for pool\n",
    "    :param pool_strides: Stride 2-D Tuple for pool\n",
    "    : return: A tensor that represents convolution and max pooling of x_tensor\n",
    "    \"\"\"\n",
    "    # TODO: Implement Function\n",
    "    depth = x_tensor.get_shape().as_list()[3]\n",
    "    weight = tf.Variable(tf.truncated_normal([*conv_ksize,depth,conv_num_outputs], mean=.0, stddev=.01))\n",
    "    bias = tf.Variable(tf.zeros(conv_num_outputs))\n",
    "    padding = 'SAME'\n",
    "    \n",
    "    conv = tf.nn.conv2d(x_tensor, weight, padding=padding, strides=[1,*conv_strides,1], use_cudnn_on_gpu=True)\n",
    "    conv = tf.nn.bias_add(conv, bias)\n",
    "    conv = tf.nn.relu(conv)\n",
    "    \n",
    "    return tf.nn.max_pool(value=conv, ksize=[1,*pool_ksize,1], strides=[1,*pool_strides,1], padding=padding, name='max_pool')\n",
    "\n",
    "\"\"\"\n",
    "DON'T MODIFY ANYTHING IN THIS CELL THAT IS BELOW THIS LINE\n",
    "\"\"\"\n",
    "tests.test_con_pool(conv2d_maxpool)"
   ]
  },
  {
   "cell_type": "markdown",
   "metadata": {
    "deletable": true,
    "editable": true
   },
   "source": [
    "### Flatten Layer\n",
    "Implement the `flatten` function to change the dimension of `x_tensor` from a 4-D tensor to a 2-D tensor.  The output should be the shape (*Batch Size*, *Flattened Image Size*). You can use [TensorFlow Layers](https://www.tensorflow.org/api_docs/python/tf/layers) or [TensorFlow Layers (contrib)](https://www.tensorflow.org/api_guides/python/contrib.layers) for this layer."
   ]
  },
  {
   "cell_type": "code",
   "execution_count": 9,
   "metadata": {
    "collapsed": false,
    "deletable": true,
    "editable": true
   },
   "outputs": [
    {
     "name": "stdout",
     "output_type": "stream",
     "text": [
      "Tests Passed\n"
     ]
    }
   ],
   "source": [
    "def flatten(x_tensor):\n",
    "    \"\"\"\n",
    "    Flatten x_tensor to (Batch Size, Flattened Image Size)\n",
    "    : x_tensor: A tensor of size (Batch Size, ...), where ... are the image dimensions.\n",
    "    : return: A tensor of size (Batch Size, Flattened Image Size).\n",
    "    \"\"\"\n",
    "    # TODO: Implement Function   \n",
    "    dim = 1\n",
    "    for shape in  x_tensor.get_shape().as_list()[1:]:\n",
    "        dim *= shape\n",
    "    return tf.reshape(x_tensor, [-1, dim]) \n",
    "\n",
    "\n",
    "\"\"\"\n",
    "DON'T MODIFY ANYTHING IN THIS CELL THAT IS BELOW THIS LINE\n",
    "\"\"\"\n",
    "tests.test_flatten(flatten)"
   ]
  },
  {
   "cell_type": "markdown",
   "metadata": {
    "deletable": true,
    "editable": true
   },
   "source": [
    "### Fully-Connected Layer\n",
    "Implement the `fully_conn` function to apply a fully connected layer to `x_tensor` with the shape (*Batch Size*, *num_outputs*). You can use [TensorFlow Layers](https://www.tensorflow.org/api_docs/python/tf/layers) or [TensorFlow Layers (contrib)](https://www.tensorflow.org/api_guides/python/contrib.layers) for this layer."
   ]
  },
  {
   "cell_type": "code",
   "execution_count": 10,
   "metadata": {
    "collapsed": false,
    "deletable": true,
    "editable": true
   },
   "outputs": [
    {
     "name": "stdout",
     "output_type": "stream",
     "text": [
      "Tests Passed\n"
     ]
    }
   ],
   "source": [
    "def fully_conn(x_tensor, num_outputs):\n",
    "    \"\"\"\n",
    "    Apply a fully connected layer to x_tensor using weight and bias\n",
    "    : x_tensor: A 2-D tensor where the first dimension is batch size.\n",
    "    : num_outputs: The number of output that the new tensor should be.\n",
    "    : return: A 2-D tensor where the second dimension is num_outputs.\n",
    "    \"\"\"\n",
    "    # TODO: Implement Function\n",
    "    batch_size = x_tensor.get_shape().as_list()[-1]\n",
    "    weights = tf.Variable(tf.truncated_normal([batch_size, num_outputs], mean=.0, stddev=.01), name=\"weights_fully_conn\")\n",
    "    bias = tf.Variable(tf.zeros([num_outputs]), name=\"bias_fully_conn\")\n",
    "    linear = tf.nn.bias_add(tf.matmul(x_tensor, weights), bias)\n",
    "    return tf.nn.relu(linear)\n",
    "\n",
    "\n",
    "\"\"\"\n",
    "DON'T MODIFY ANYTHING IN THIS CELL THAT IS BELOW THIS LINE\n",
    "\"\"\"\n",
    "tests.test_fully_conn(fully_conn)"
   ]
  },
  {
   "cell_type": "markdown",
   "metadata": {
    "deletable": true,
    "editable": true
   },
   "source": [
    "### Output Layer\n",
    "Implement the `output` function to apply a fully connected layer to `x_tensor` with the shape (*Batch Size*, *num_outputs*). You can use [TensorFlow Layers](https://www.tensorflow.org/api_docs/python/tf/layers) or [TensorFlow Layers (contrib)](https://www.tensorflow.org/api_guides/python/contrib.layers) for this layer.\n",
    "\n",
    "Note: Activation, softmax, or cross entropy shouldn't be applied to this."
   ]
  },
  {
   "cell_type": "code",
   "execution_count": 11,
   "metadata": {
    "collapsed": false,
    "deletable": true,
    "editable": true
   },
   "outputs": [
    {
     "name": "stdout",
     "output_type": "stream",
     "text": [
      "Tests Passed\n"
     ]
    }
   ],
   "source": [
    "def output(x_tensor, num_outputs):\n",
    "    \"\"\"\n",
    "    Apply a output layer to x_tensor using weight and bias\n",
    "    : x_tensor: A 2-D tensor where the first dimension is batch size.\n",
    "    : num_outputs: The number of output that the new tensor should be.\n",
    "    : return: A 2-D tensor where the second dimension is num_outputs.\n",
    "    \"\"\"\n",
    "    # TODO: Implement Function\n",
    "    depth = x_tensor.get_shape().as_list()[-1]\n",
    "    weights = tf.Variable(tf.random_normal([depth, num_outputs], mean=.0, stddev=.01), name=\"weights_fully_conn\")\n",
    "    bias = tf.Variable(tf.zeros([num_outputs]))\n",
    "    linear = tf.nn.bias_add(tf.matmul(x_tensor, weights), bias)\n",
    "    return linear\n",
    "\n",
    "\n",
    "\"\"\"\n",
    "DON'T MODIFY ANYTHING IN THIS CELL THAT IS BELOW THIS LINE\n",
    "\"\"\"\n",
    "tests.test_output(output)"
   ]
  },
  {
   "cell_type": "markdown",
   "metadata": {
    "deletable": true,
    "editable": true
   },
   "source": [
    "### Create Convolutional Model\n",
    "Implement the function `conv_net` to create a convolutional neural network model. The function takes in a batch of images, `x`, and outputs logits.  Use the layers you created above to create this model:\n",
    "\n",
    "* Apply 1, 2, or 3 Convolution and Max Pool layers\n",
    "* Apply a Flatten Layer\n",
    "* Apply 1, 2, or 3 Fully Connected Layers\n",
    "* Apply an Output Layer\n",
    "* Return the output\n",
    "* Apply [TensorFlow's Dropout](https://www.tensorflow.org/api_docs/python/tf/nn/dropout) to one or more layers in the model using `keep_prob`. "
   ]
  },
  {
   "cell_type": "code",
   "execution_count": 12,
   "metadata": {
    "collapsed": false,
    "deletable": true,
    "editable": true
   },
   "outputs": [
    {
     "name": "stdout",
     "output_type": "stream",
     "text": [
      "Neural Network Built!\n"
     ]
    }
   ],
   "source": [
    "def conv_net(x, keep_prob):\n",
    "    \"\"\"\n",
    "    Create a convolutional neural network model\n",
    "    : x: Placeholder tensor that holds image data.\n",
    "    : keep_prob: Placeholder tensor that hold dropout keep probability.\n",
    "    : return: Tensor that represents logits\n",
    "    \"\"\"\n",
    "    # TODO: Apply 1, 2, or 3 Convolution and Max Pool layers\n",
    "    #    Play around with different number of outputs, kernel size and stride\n",
    "    # Function Definition from Above:\n",
    "    #   conv2d_maxpool(x_tensor, conv_num_outputs, conv_ksize, conv_strides, pool_ksize, pool_strides)\n",
    "    \n",
    "    conv_num_outputs = [64,128,256]\n",
    "\n",
    "    conv_strides = [(2,2), (2,2), (2,2)]\n",
    "    conv_ksize = [(4,4), (6,6), (8,8)]\n",
    "\n",
    "    pool_ksize = (4,4)\n",
    "    pool_strides = (2,2)\n",
    "    \n",
    "    conv_layer_1 = conv2d_maxpool(x, conv_num_outputs[0], conv_ksize[0], conv_strides[0], pool_ksize, pool_strides)\n",
    "\n",
    "    conv_layer_2 = conv2d_maxpool(conv_layer_1,conv_num_outputs[1], conv_ksize[1], conv_strides[1], pool_ksize, pool_strides)\n",
    "\n",
    "    conv_layer_2 = tf.nn.dropout(conv_layer_2, keep_prob)\n",
    "\n",
    "#     conv_layer_3 = conv2d_maxpool(conv_layer_2, conv_num_outputs[2], conv_ksize[2], conv_strides[2], pool_ksize, pool_strides)\n",
    "\n",
    "#     conv_layer_3 = tf.nn.dropout(conv_layer_3, keep_prob)\n",
    "    \n",
    "    # TODO: Apply a Flatten Layer\n",
    "    # Function Definition from Above:\n",
    "    #   flatten(x_tensor)\n",
    "    \n",
    "    x_tensor = flatten(conv_layer_2)\n",
    "\n",
    "    # TODO: Apply 1, 2, or 3 Fully Connected Layers\n",
    "    #    Play around with different number of outputs\n",
    "    # Function Definition from Above:\n",
    "    #   fully_conn(x_tensor, num_outputs)\n",
    "    \n",
    "    num_outputs = (256, 128)\n",
    "    fully_conn_1 = fully_conn(x_tensor, num_outputs[0])\n",
    "    fully_conn_1 = tf.nn.dropout(fully_conn_1, keep_prob)\n",
    "    fully_conn_2 = fully_conn(fully_conn_1, num_outputs[1])\n",
    "    #fully_conn_3 = fully_conn(fully_conn_2, num_outputs[2])\n",
    "    \n",
    "    # TODO: Apply an Output Layer\n",
    "    #    Set this to the number of classes\n",
    "    # Function Definition from Above:\n",
    "    #   output(x_tensor, num_outputs)\n",
    "    \n",
    "    final_out = output(fully_conn_2, 10)\n",
    "    \n",
    "    # TODO: return output\n",
    "    return final_out\n",
    "\n",
    "\n",
    "\"\"\"\n",
    "DON'T MODIFY ANYTHING IN THIS CELL THAT IS BELOW THIS LINE\n",
    "\"\"\"\n",
    "\n",
    "##############################\n",
    "## Build the Neural Network ##\n",
    "##############################\n",
    "\n",
    "# Remove previous weights, bias, inputs, etc..\n",
    "tf.reset_default_graph()\n",
    "\n",
    "# Inputs\n",
    "x = neural_net_image_input((32, 32, 3))\n",
    "y = neural_net_label_input(10)\n",
    "keep_prob = neural_net_keep_prob_input()\n",
    "\n",
    "# Model\n",
    "logits = conv_net(x, keep_prob)\n",
    "\n",
    "# Name logits Tensor, so that is can be loaded from disk after training\n",
    "logits = tf.identity(logits, name='logits')\n",
    "\n",
    "# Loss and Optimizer\n",
    "cost = tf.reduce_mean(tf.nn.softmax_cross_entropy_with_logits(logits=logits, labels=y))\n",
    "optimizer = tf.train.AdamOptimizer().minimize(cost)\n",
    "\n",
    "# Accuracy\n",
    "correct_pred = tf.equal(tf.argmax(logits, 1), tf.argmax(y, 1))\n",
    "accuracy = tf.reduce_mean(tf.cast(correct_pred, tf.float32), name='accuracy')\n",
    "\n",
    "tests.test_conv_net(conv_net)"
   ]
  },
  {
   "cell_type": "markdown",
   "metadata": {
    "deletable": true,
    "editable": true
   },
   "source": [
    "## Train the Neural Network\n",
    "### Single Optimization\n",
    "Implement the function `train_neural_network` to do a single optimization.  The optimization should use `optimizer` to optimize in `session` with a `feed_dict` of the following:\n",
    "* `x` for image input\n",
    "* `y` for labels\n",
    "* `keep_prob` for keep probability for dropout\n",
    "\n",
    "This function will be called for each batch, so `tf.global_variables_initializer()` has already been called.\n",
    "\n",
    "Note: Nothing needs to be returned. This function is only optimizing the neural network."
   ]
  },
  {
   "cell_type": "code",
   "execution_count": 13,
   "metadata": {
    "collapsed": false,
    "deletable": true,
    "editable": true
   },
   "outputs": [
    {
     "name": "stdout",
     "output_type": "stream",
     "text": [
      "Tests Passed\n"
     ]
    }
   ],
   "source": [
    "def train_neural_network(session, optimizer, keep_probability, feature_batch, label_batch):\n",
    "    \"\"\"\n",
    "    Optimize the session on a batch of images and labels\n",
    "    : session: Current TensorFlow session\n",
    "    : optimizer: TensorFlow optimizer function\n",
    "    : keep_probability: keep probability\n",
    "    : feature_batch: Batch of Numpy image data\n",
    "    : label_batch: Batch of Numpy label data\n",
    "    \"\"\"\n",
    "    # TODO: Implement Function\n",
    "    session.run(optimizer, feed_dict={x: feature_batch, y: label_batch, keep_prob: keep_probability})\n",
    "\n",
    "\"\"\"\n",
    "DON'T MODIFY ANYTHING IN THIS CELL THAT IS BELOW THIS LINE\n",
    "\"\"\"\n",
    "tests.test_train_nn(train_neural_network)"
   ]
  },
  {
   "cell_type": "markdown",
   "metadata": {
    "deletable": true,
    "editable": true
   },
   "source": [
    "### Show Stats\n",
    "Implement the function `print_stats` to print loss and validation accuracy.  Use the global variables `valid_features` and `valid_labels` to calculate validation accuracy.  Use a keep probability of `1.0` to calculate the loss and validation accuracy."
   ]
  },
  {
   "cell_type": "code",
   "execution_count": 14,
   "metadata": {
    "collapsed": false,
    "deletable": true,
    "editable": true
   },
   "outputs": [],
   "source": [
    "def print_stats(session, feature_batch, label_batch, cost, accuracy):\n",
    "    \"\"\"\n",
    "    Print information about loss and validation accuracy\n",
    "    : session: Current TensorFlow session\n",
    "    : feature_batch: Batch of Numpy image data\n",
    "    : label_batch: Batch of Numpy label data\n",
    "    : cost: TensorFlow cost function\n",
    "    : accuracy: TensorFlow accuracy function\n",
    "    \"\"\"\n",
    "    # TODO: Implement Function\n",
    "    cost = sess.run(cost, feed_dict={x: feature_batch, y: label_batch, keep_prob: 1.})\n",
    "    acc = sess.run(accuracy, feed_dict={x: valid_features, y: valid_labels, keep_prob: 1.})\n",
    "    print('Loss: ', cost, ' Accuracy: ', acc)\n",
    "    pass"
   ]
  },
  {
   "cell_type": "markdown",
   "metadata": {
    "deletable": true,
    "editable": true
   },
   "source": [
    "### Hyperparameters\n",
    "Tune the following parameters:\n",
    "* Set `epochs` to the number of iterations until the network stops learning or start overfitting\n",
    "* Set `batch_size` to the highest number that your machine has memory for.  Most people set them to common sizes of memory:\n",
    " * 64\n",
    " * 128\n",
    " * 256\n",
    " * ...\n",
    "* Set `keep_probability` to the probability of keeping a node using dropout"
   ]
  },
  {
   "cell_type": "code",
   "execution_count": 15,
   "metadata": {
    "collapsed": true,
    "deletable": true,
    "editable": true
   },
   "outputs": [],
   "source": [
    "# TODO: Tune Parameters\n",
    "epochs = 45\n",
    "batch_size = 512\n",
    "keep_probability = .7"
   ]
  },
  {
   "cell_type": "markdown",
   "metadata": {
    "deletable": true,
    "editable": true
   },
   "source": [
    "### Train on a Single CIFAR-10 Batch\n",
    "Instead of training the neural network on all the CIFAR-10 batches of data, let's use a single batch. This should save time while you iterate on the model to get a better accuracy.  Once the final validation accuracy is 50% or greater, run the model on all the data in the next section."
   ]
  },
  {
   "cell_type": "code",
   "execution_count": 16,
   "metadata": {
    "collapsed": false,
    "deletable": true,
    "editable": true
   },
   "outputs": [
    {
     "name": "stdout",
     "output_type": "stream",
     "text": [
      "Checking the Training on a Single Batch...\n",
      "Epoch 1, CIFAR-10 Batch 1:  Loss:  2.26967  Accuracy:  0.1096\n",
      "Epoch 2, CIFAR-10 Batch 1:  Loss:  2.18022  Accuracy:  0.1562\n",
      "Epoch 3, CIFAR-10 Batch 1:  Loss:  2.09932  Accuracy:  0.1728\n",
      "Epoch 4, CIFAR-10 Batch 1:  Loss:  2.05085  Accuracy:  0.1992\n",
      "Epoch 5, CIFAR-10 Batch 1:  Loss:  2.02817  Accuracy:  0.2112\n",
      "Epoch 6, CIFAR-10 Batch 1:  Loss:  1.98438  Accuracy:  0.2138\n",
      "Epoch 7, CIFAR-10 Batch 1:  Loss:  1.97745  Accuracy:  0.2288\n",
      "Epoch 8, CIFAR-10 Batch 1:  Loss:  1.87981  Accuracy:  0.267\n",
      "Epoch 9, CIFAR-10 Batch 1:  Loss:  1.84206  Accuracy:  0.293\n",
      "Epoch 10, CIFAR-10 Batch 1:  Loss:  1.76049  Accuracy:  0.3198\n",
      "Epoch 11, CIFAR-10 Batch 1:  Loss:  1.72475  Accuracy:  0.322\n",
      "Epoch 12, CIFAR-10 Batch 1:  Loss:  1.7045  Accuracy:  0.3386\n",
      "Epoch 13, CIFAR-10 Batch 1:  Loss:  1.65045  Accuracy:  0.3484\n",
      "Epoch 14, CIFAR-10 Batch 1:  Loss:  1.61023  Accuracy:  0.35\n",
      "Epoch 15, CIFAR-10 Batch 1:  Loss:  1.57588  Accuracy:  0.3652\n",
      "Epoch 16, CIFAR-10 Batch 1:  Loss:  1.53269  Accuracy:  0.385\n",
      "Epoch 17, CIFAR-10 Batch 1:  Loss:  1.4837  Accuracy:  0.3992\n",
      "Epoch 18, CIFAR-10 Batch 1:  Loss:  1.46308  Accuracy:  0.4096\n",
      "Epoch 19, CIFAR-10 Batch 1:  Loss:  1.45614  Accuracy:  0.3954\n",
      "Epoch 20, CIFAR-10 Batch 1:  Loss:  1.4164  Accuracy:  0.4148\n",
      "Epoch 21, CIFAR-10 Batch 1:  Loss:  1.36994  Accuracy:  0.435\n",
      "Epoch 22, CIFAR-10 Batch 1:  Loss:  1.34785  Accuracy:  0.447\n",
      "Epoch 23, CIFAR-10 Batch 1:  Loss:  1.32465  Accuracy:  0.4494\n",
      "Epoch 24, CIFAR-10 Batch 1:  Loss:  1.35446  Accuracy:  0.439\n",
      "Epoch 25, CIFAR-10 Batch 1:  Loss:  1.28994  Accuracy:  0.4568\n",
      "Epoch 26, CIFAR-10 Batch 1:  Loss:  1.2358  Accuracy:  0.465\n",
      "Epoch 27, CIFAR-10 Batch 1:  Loss:  1.20391  Accuracy:  0.4782\n",
      "Epoch 28, CIFAR-10 Batch 1:  Loss:  1.1567  Accuracy:  0.4832\n",
      "Epoch 29, CIFAR-10 Batch 1:  Loss:  1.11046  Accuracy:  0.5044\n",
      "Epoch 30, CIFAR-10 Batch 1:  Loss:  1.053  Accuracy:  0.5094\n",
      "Epoch 31, CIFAR-10 Batch 1:  Loss:  1.03148  Accuracy:  0.5174\n",
      "Epoch 32, CIFAR-10 Batch 1:  Loss:  1.01318  Accuracy:  0.5264\n",
      "Epoch 33, CIFAR-10 Batch 1:  Loss:  1.00881  Accuracy:  0.519\n",
      "Epoch 34, CIFAR-10 Batch 1:  Loss:  1.02677  Accuracy:  0.4874\n",
      "Epoch 35, CIFAR-10 Batch 1:  Loss:  0.936813  Accuracy:  0.5174\n",
      "Epoch 36, CIFAR-10 Batch 1:  Loss:  0.95057  Accuracy:  0.5072\n",
      "Epoch 37, CIFAR-10 Batch 1:  Loss:  0.883764  Accuracy:  0.5316\n",
      "Epoch 38, CIFAR-10 Batch 1:  Loss:  0.873963  Accuracy:  0.5388\n",
      "Epoch 39, CIFAR-10 Batch 1:  Loss:  0.856107  Accuracy:  0.5244\n",
      "Epoch 40, CIFAR-10 Batch 1:  Loss:  0.831632  Accuracy:  0.515\n",
      "Epoch 41, CIFAR-10 Batch 1:  Loss:  0.72262  Accuracy:  0.546\n",
      "Epoch 42, CIFAR-10 Batch 1:  Loss:  0.693957  Accuracy:  0.5462\n",
      "Epoch 43, CIFAR-10 Batch 1:  Loss:  0.706605  Accuracy:  0.5218\n",
      "Epoch 44, CIFAR-10 Batch 1:  Loss:  0.709099  Accuracy:  0.525\n",
      "Epoch 45, CIFAR-10 Batch 1:  Loss:  0.617234  Accuracy:  0.5418\n"
     ]
    }
   ],
   "source": [
    "\"\"\"\n",
    "DON'T MODIFY ANYTHING IN THIS CELL\n",
    "\"\"\"\n",
    "print('Checking the Training on a Single Batch...')\n",
    "with tf.Session() as sess:\n",
    "    # Initializing the variables\n",
    "    sess.run(tf.global_variables_initializer())\n",
    "    \n",
    "    # Training cycle\n",
    "    for epoch in range(epochs):\n",
    "        batch_i = 1\n",
    "        for batch_features, batch_labels in helper.load_preprocess_training_batch(batch_i, batch_size):\n",
    "            train_neural_network(sess, optimizer, keep_probability, batch_features, batch_labels)\n",
    "        print('Epoch {:>1}, CIFAR-10 Batch {}:  '.format(epoch + 1, batch_i), end='')\n",
    "        print_stats(sess, batch_features, batch_labels, cost, accuracy)"
   ]
  },
  {
   "cell_type": "markdown",
   "metadata": {
    "deletable": true,
    "editable": true
   },
   "source": [
    "### Fully Train the Model\n",
    "Now that you got a good accuracy with a single CIFAR-10 batch, try it with all five batches."
   ]
  },
  {
   "cell_type": "code",
   "execution_count": 17,
   "metadata": {
    "collapsed": false,
    "deletable": true,
    "editable": true
   },
   "outputs": [
    {
     "name": "stdout",
     "output_type": "stream",
     "text": [
      "Training...\n",
      "Epoch  1, CIFAR-10 Batch 1:  Loss:  2.26396  Accuracy:  0.1104\n",
      "Epoch  1, CIFAR-10 Batch 2:  Loss:  2.17961  Accuracy:  0.1774\n",
      "Epoch  1, CIFAR-10 Batch 3:  Loss:  1.98869  Accuracy:  0.1746\n",
      "Epoch  1, CIFAR-10 Batch 4:  Loss:  1.92641  Accuracy:  0.1908\n",
      "Epoch  1, CIFAR-10 Batch 5:  Loss:  1.89226  Accuracy:  0.207\n",
      "Epoch  2, CIFAR-10 Batch 1:  Loss:  1.99959  Accuracy:  0.2264\n",
      "Epoch  2, CIFAR-10 Batch 2:  Loss:  1.85868  Accuracy:  0.2556\n",
      "Epoch  2, CIFAR-10 Batch 3:  Loss:  1.72059  Accuracy:  0.2794\n",
      "Epoch  2, CIFAR-10 Batch 4:  Loss:  1.7133  Accuracy:  0.3122\n",
      "Epoch  2, CIFAR-10 Batch 5:  Loss:  1.78047  Accuracy:  0.2784\n",
      "Epoch  3, CIFAR-10 Batch 1:  Loss:  1.77002  Accuracy:  0.3278\n",
      "Epoch  3, CIFAR-10 Batch 2:  Loss:  1.68805  Accuracy:  0.3426\n",
      "Epoch  3, CIFAR-10 Batch 3:  Loss:  1.53488  Accuracy:  0.3442\n",
      "Epoch  3, CIFAR-10 Batch 4:  Loss:  1.55396  Accuracy:  0.3708\n",
      "Epoch  3, CIFAR-10 Batch 5:  Loss:  1.55857  Accuracy:  0.368\n",
      "Epoch  4, CIFAR-10 Batch 1:  Loss:  1.64611  Accuracy:  0.3852\n",
      "Epoch  4, CIFAR-10 Batch 2:  Loss:  1.56445  Accuracy:  0.3872\n",
      "Epoch  4, CIFAR-10 Batch 3:  Loss:  1.37672  Accuracy:  0.4124\n",
      "Epoch  4, CIFAR-10 Batch 4:  Loss:  1.44184  Accuracy:  0.4194\n",
      "Epoch  4, CIFAR-10 Batch 5:  Loss:  1.41713  Accuracy:  0.4364\n",
      "Epoch  5, CIFAR-10 Batch 1:  Loss:  1.47644  Accuracy:  0.4398\n",
      "Epoch  5, CIFAR-10 Batch 2:  Loss:  1.44623  Accuracy:  0.4342\n",
      "Epoch  5, CIFAR-10 Batch 3:  Loss:  1.24262  Accuracy:  0.458\n",
      "Epoch  5, CIFAR-10 Batch 4:  Loss:  1.29452  Accuracy:  0.4694\n",
      "Epoch  5, CIFAR-10 Batch 5:  Loss:  1.29512  Accuracy:  0.469\n",
      "Epoch  6, CIFAR-10 Batch 1:  Loss:  1.38407  Accuracy:  0.482\n",
      "Epoch  6, CIFAR-10 Batch 2:  Loss:  1.32172  Accuracy:  0.4914\n",
      "Epoch  6, CIFAR-10 Batch 3:  Loss:  1.15013  Accuracy:  0.4954\n",
      "Epoch  6, CIFAR-10 Batch 4:  Loss:  1.21361  Accuracy:  0.5062\n",
      "Epoch  6, CIFAR-10 Batch 5:  Loss:  1.21768  Accuracy:  0.5084\n",
      "Epoch  7, CIFAR-10 Batch 1:  Loss:  1.31731  Accuracy:  0.4966\n",
      "Epoch  7, CIFAR-10 Batch 2:  Loss:  1.21516  Accuracy:  0.5206\n",
      "Epoch  7, CIFAR-10 Batch 3:  Loss:  1.12666  Accuracy:  0.5174\n",
      "Epoch  7, CIFAR-10 Batch 4:  Loss:  1.11899  Accuracy:  0.5392\n",
      "Epoch  7, CIFAR-10 Batch 5:  Loss:  1.1401  Accuracy:  0.5304\n",
      "Epoch  8, CIFAR-10 Batch 1:  Loss:  1.20921  Accuracy:  0.5358\n",
      "Epoch  8, CIFAR-10 Batch 2:  Loss:  1.1284  Accuracy:  0.5482\n",
      "Epoch  8, CIFAR-10 Batch 3:  Loss:  1.05685  Accuracy:  0.5484\n",
      "Epoch  8, CIFAR-10 Batch 4:  Loss:  1.0197  Accuracy:  0.5556\n",
      "Epoch  8, CIFAR-10 Batch 5:  Loss:  1.06417  Accuracy:  0.5498\n",
      "Epoch  9, CIFAR-10 Batch 1:  Loss:  1.14317  Accuracy:  0.5542\n",
      "Epoch  9, CIFAR-10 Batch 2:  Loss:  1.06077  Accuracy:  0.5728\n",
      "Epoch  9, CIFAR-10 Batch 3:  Loss:  0.979314  Accuracy:  0.5708\n",
      "Epoch  9, CIFAR-10 Batch 4:  Loss:  0.962877  Accuracy:  0.572\n",
      "Epoch  9, CIFAR-10 Batch 5:  Loss:  0.989931  Accuracy:  0.5738\n",
      "Epoch 10, CIFAR-10 Batch 1:  Loss:  1.0525  Accuracy:  0.5774\n",
      "Epoch 10, CIFAR-10 Batch 2:  Loss:  1.01728  Accuracy:  0.5828\n",
      "Epoch 10, CIFAR-10 Batch 3:  Loss:  0.917246  Accuracy:  0.5894\n",
      "Epoch 10, CIFAR-10 Batch 4:  Loss:  0.927754  Accuracy:  0.5846\n",
      "Epoch 10, CIFAR-10 Batch 5:  Loss:  0.951578  Accuracy:  0.5886\n",
      "Epoch 11, CIFAR-10 Batch 1:  Loss:  1.02533  Accuracy:  0.5678\n",
      "Epoch 11, CIFAR-10 Batch 2:  Loss:  0.964108  Accuracy:  0.5932\n",
      "Epoch 11, CIFAR-10 Batch 3:  Loss:  0.843888  Accuracy:  0.597\n",
      "Epoch 11, CIFAR-10 Batch 4:  Loss:  0.876269  Accuracy:  0.5916\n",
      "Epoch 11, CIFAR-10 Batch 5:  Loss:  0.887518  Accuracy:  0.5922\n",
      "Epoch 12, CIFAR-10 Batch 1:  Loss:  0.95713  Accuracy:  0.5806\n",
      "Epoch 12, CIFAR-10 Batch 2:  Loss:  0.910673  Accuracy:  0.5974\n",
      "Epoch 12, CIFAR-10 Batch 3:  Loss:  0.795461  Accuracy:  0.6092\n",
      "Epoch 12, CIFAR-10 Batch 4:  Loss:  0.851385  Accuracy:  0.597\n",
      "Epoch 12, CIFAR-10 Batch 5:  Loss:  0.834153  Accuracy:  0.6056\n",
      "Epoch 13, CIFAR-10 Batch 1:  Loss:  0.896007  Accuracy:  0.5926\n",
      "Epoch 13, CIFAR-10 Batch 2:  Loss:  0.86549  Accuracy:  0.6046\n",
      "Epoch 13, CIFAR-10 Batch 3:  Loss:  0.743441  Accuracy:  0.6246\n",
      "Epoch 13, CIFAR-10 Batch 4:  Loss:  0.80851  Accuracy:  0.601\n",
      "Epoch 13, CIFAR-10 Batch 5:  Loss:  0.805374  Accuracy:  0.6142\n",
      "Epoch 14, CIFAR-10 Batch 1:  Loss:  0.878853  Accuracy:  0.5996\n",
      "Epoch 14, CIFAR-10 Batch 2:  Loss:  0.831546  Accuracy:  0.6222\n",
      "Epoch 14, CIFAR-10 Batch 3:  Loss:  0.724414  Accuracy:  0.6226\n",
      "Epoch 14, CIFAR-10 Batch 4:  Loss:  0.856357  Accuracy:  0.5892\n",
      "Epoch 14, CIFAR-10 Batch 5:  Loss:  0.759628  Accuracy:  0.63\n",
      "Epoch 15, CIFAR-10 Batch 1:  Loss:  0.917565  Accuracy:  0.581\n",
      "Epoch 15, CIFAR-10 Batch 2:  Loss:  0.824197  Accuracy:  0.6064\n",
      "Epoch 15, CIFAR-10 Batch 3:  Loss:  0.703323  Accuracy:  0.63\n",
      "Epoch 15, CIFAR-10 Batch 4:  Loss:  0.736865  Accuracy:  0.6204\n",
      "Epoch 15, CIFAR-10 Batch 5:  Loss:  0.7068  Accuracy:  0.6344\n",
      "Epoch 16, CIFAR-10 Batch 1:  Loss:  0.801244  Accuracy:  0.632\n",
      "Epoch 16, CIFAR-10 Batch 2:  Loss:  0.753246  Accuracy:  0.638\n",
      "Epoch 16, CIFAR-10 Batch 3:  Loss:  0.696393  Accuracy:  0.6338\n",
      "Epoch 16, CIFAR-10 Batch 4:  Loss:  0.709989  Accuracy:  0.6356\n",
      "Epoch 16, CIFAR-10 Batch 5:  Loss:  0.682637  Accuracy:  0.644\n",
      "Epoch 17, CIFAR-10 Batch 1:  Loss:  0.762073  Accuracy:  0.6228\n",
      "Epoch 17, CIFAR-10 Batch 2:  Loss:  0.740886  Accuracy:  0.6432\n",
      "Epoch 17, CIFAR-10 Batch 3:  Loss:  0.683645  Accuracy:  0.636\n",
      "Epoch 17, CIFAR-10 Batch 4:  Loss:  0.649417  Accuracy:  0.6446\n",
      "Epoch 17, CIFAR-10 Batch 5:  Loss:  0.637301  Accuracy:  0.6454\n",
      "Epoch 18, CIFAR-10 Batch 1:  Loss:  0.720114  Accuracy:  0.6294\n",
      "Epoch 18, CIFAR-10 Batch 2:  Loss:  0.711314  Accuracy:  0.6396\n",
      "Epoch 18, CIFAR-10 Batch 3:  Loss:  0.620995  Accuracy:  0.6476\n",
      "Epoch 18, CIFAR-10 Batch 4:  Loss:  0.630552  Accuracy:  0.6512\n",
      "Epoch 18, CIFAR-10 Batch 5:  Loss:  0.593063  Accuracy:  0.6476\n",
      "Epoch 19, CIFAR-10 Batch 1:  Loss:  0.686705  Accuracy:  0.632\n",
      "Epoch 19, CIFAR-10 Batch 2:  Loss:  0.674371  Accuracy:  0.64\n",
      "Epoch 19, CIFAR-10 Batch 3:  Loss:  0.60135  Accuracy:  0.6512\n",
      "Epoch 19, CIFAR-10 Batch 4:  Loss:  0.585119  Accuracy:  0.6568\n",
      "Epoch 19, CIFAR-10 Batch 5:  Loss:  0.558348  Accuracy:  0.6552\n",
      "Epoch 20, CIFAR-10 Batch 1:  Loss:  0.65071  Accuracy:  0.6532\n",
      "Epoch 20, CIFAR-10 Batch 2:  Loss:  0.675154  Accuracy:  0.6448\n",
      "Epoch 20, CIFAR-10 Batch 3:  Loss:  0.577747  Accuracy:  0.6542\n",
      "Epoch 20, CIFAR-10 Batch 4:  Loss:  0.558851  Accuracy:  0.6552\n",
      "Epoch 20, CIFAR-10 Batch 5:  Loss:  0.510776  Accuracy:  0.6598\n",
      "Epoch 21, CIFAR-10 Batch 1:  Loss:  0.618304  Accuracy:  0.6568\n",
      "Epoch 21, CIFAR-10 Batch 2:  Loss:  0.669872  Accuracy:  0.6218\n",
      "Epoch 21, CIFAR-10 Batch 3:  Loss:  0.554243  Accuracy:  0.6552\n",
      "Epoch 21, CIFAR-10 Batch 4:  Loss:  0.535576  Accuracy:  0.6612\n",
      "Epoch 21, CIFAR-10 Batch 5:  Loss:  0.507412  Accuracy:  0.6518\n",
      "Epoch 22, CIFAR-10 Batch 1:  Loss:  0.655979  Accuracy:  0.6494\n",
      "Epoch 22, CIFAR-10 Batch 2:  Loss:  0.622801  Accuracy:  0.6322\n",
      "Epoch 22, CIFAR-10 Batch 3:  Loss:  0.496313  Accuracy:  0.668\n",
      "Epoch 22, CIFAR-10 Batch 4:  Loss:  0.518268  Accuracy:  0.663\n",
      "Epoch 22, CIFAR-10 Batch 5:  Loss:  0.457415  Accuracy:  0.6624\n",
      "Epoch 23, CIFAR-10 Batch 1:  Loss:  0.595948  Accuracy:  0.664\n",
      "Epoch 23, CIFAR-10 Batch 2:  Loss:  0.57446  Accuracy:  0.6452\n",
      "Epoch 23, CIFAR-10 Batch 3:  Loss:  0.489173  Accuracy:  0.6696\n",
      "Epoch 23, CIFAR-10 Batch 4:  Loss:  0.474983  Accuracy:  0.6692\n",
      "Epoch 23, CIFAR-10 Batch 5:  Loss:  0.435915  Accuracy:  0.6648\n",
      "Epoch 24, CIFAR-10 Batch 1:  Loss:  0.56741  Accuracy:  0.668\n",
      "Epoch 24, CIFAR-10 Batch 2:  Loss:  0.544894  Accuracy:  0.6468\n",
      "Epoch 24, CIFAR-10 Batch 3:  Loss:  0.47647  Accuracy:  0.6576\n",
      "Epoch 24, CIFAR-10 Batch 4:  Loss:  0.468388  Accuracy:  0.6638\n",
      "Epoch 24, CIFAR-10 Batch 5:  Loss:  0.417914  Accuracy:  0.665\n",
      "Epoch 25, CIFAR-10 Batch 1:  Loss:  0.534383  Accuracy:  0.6728\n",
      "Epoch 25, CIFAR-10 Batch 2:  Loss:  0.537094  Accuracy:  0.6452\n",
      "Epoch 25, CIFAR-10 Batch 3:  Loss:  0.462951  Accuracy:  0.665\n",
      "Epoch 25, CIFAR-10 Batch 4:  Loss:  0.427288  Accuracy:  0.6776\n",
      "Epoch 25, CIFAR-10 Batch 5:  Loss:  0.441922  Accuracy:  0.6596\n",
      "Epoch 26, CIFAR-10 Batch 1:  Loss:  0.584437  Accuracy:  0.6576\n",
      "Epoch 26, CIFAR-10 Batch 2:  Loss:  0.542177  Accuracy:  0.639\n",
      "Epoch 26, CIFAR-10 Batch 3:  Loss:  0.426475  Accuracy:  0.6768\n",
      "Epoch 26, CIFAR-10 Batch 4:  Loss:  0.4389  Accuracy:  0.668\n",
      "Epoch 26, CIFAR-10 Batch 5:  Loss:  0.420032  Accuracy:  0.6528\n",
      "Epoch 27, CIFAR-10 Batch 1:  Loss:  0.508742  Accuracy:  0.6786\n",
      "Epoch 27, CIFAR-10 Batch 2:  Loss:  0.479217  Accuracy:  0.6624\n",
      "Epoch 27, CIFAR-10 Batch 3:  Loss:  0.407267  Accuracy:  0.6676\n",
      "Epoch 27, CIFAR-10 Batch 4:  Loss:  0.395873  Accuracy:  0.6734\n",
      "Epoch 27, CIFAR-10 Batch 5:  Loss:  0.372508  Accuracy:  0.6626\n",
      "Epoch 28, CIFAR-10 Batch 1:  Loss:  0.485135  Accuracy:  0.68\n",
      "Epoch 28, CIFAR-10 Batch 2:  Loss:  0.501211  Accuracy:  0.6508\n",
      "Epoch 28, CIFAR-10 Batch 3:  Loss:  0.416826  Accuracy:  0.6616\n",
      "Epoch 28, CIFAR-10 Batch 4:  Loss:  0.371396  Accuracy:  0.679\n",
      "Epoch 28, CIFAR-10 Batch 5:  Loss:  0.374044  Accuracy:  0.6658\n",
      "Epoch 29, CIFAR-10 Batch 1:  Loss:  0.50942  Accuracy:  0.6644\n",
      "Epoch 29, CIFAR-10 Batch 2:  Loss:  0.486737  Accuracy:  0.6566\n",
      "Epoch 29, CIFAR-10 Batch 3:  Loss:  0.406456  Accuracy:  0.6604\n",
      "Epoch 29, CIFAR-10 Batch 4:  Loss:  0.368862  Accuracy:  0.6786\n",
      "Epoch 29, CIFAR-10 Batch 5:  Loss:  0.361565  Accuracy:  0.6704\n",
      "Epoch 30, CIFAR-10 Batch 1:  Loss:  0.492144  Accuracy:  0.6614\n",
      "Epoch 30, CIFAR-10 Batch 2:  Loss:  0.455834  Accuracy:  0.6546\n",
      "Epoch 30, CIFAR-10 Batch 3:  Loss:  0.394886  Accuracy:  0.661\n",
      "Epoch 30, CIFAR-10 Batch 4:  Loss:  0.364666  Accuracy:  0.6724\n",
      "Epoch 30, CIFAR-10 Batch 5:  Loss:  0.351321  Accuracy:  0.6678\n",
      "Epoch 31, CIFAR-10 Batch 1:  Loss:  0.466963  Accuracy:  0.6634\n",
      "Epoch 31, CIFAR-10 Batch 2:  Loss:  0.447841  Accuracy:  0.6566\n",
      "Epoch 31, CIFAR-10 Batch 3:  Loss:  0.353262  Accuracy:  0.6744\n",
      "Epoch 31, CIFAR-10 Batch 4:  Loss:  0.354006  Accuracy:  0.6758\n",
      "Epoch 31, CIFAR-10 Batch 5:  Loss:  0.337773  Accuracy:  0.6722\n",
      "Epoch 32, CIFAR-10 Batch 1:  Loss:  0.456527  Accuracy:  0.6614\n",
      "Epoch 32, CIFAR-10 Batch 2:  Loss:  0.434192  Accuracy:  0.6714\n",
      "Epoch 32, CIFAR-10 Batch 3:  Loss:  0.35324  Accuracy:  0.673\n",
      "Epoch 32, CIFAR-10 Batch 4:  Loss:  0.369172  Accuracy:  0.6722\n",
      "Epoch 32, CIFAR-10 Batch 5:  Loss:  0.32329  Accuracy:  0.6842\n",
      "Epoch 33, CIFAR-10 Batch 1:  Loss:  0.423845  Accuracy:  0.6686\n",
      "Epoch 33, CIFAR-10 Batch 2:  Loss:  0.408612  Accuracy:  0.6736\n",
      "Epoch 33, CIFAR-10 Batch 3:  Loss:  0.332933  Accuracy:  0.6766\n",
      "Epoch 33, CIFAR-10 Batch 4:  Loss:  0.360669  Accuracy:  0.6676\n",
      "Epoch 33, CIFAR-10 Batch 5:  Loss:  0.314745  Accuracy:  0.6776\n",
      "Epoch 34, CIFAR-10 Batch 1:  Loss:  0.416617  Accuracy:  0.6694\n",
      "Epoch 34, CIFAR-10 Batch 2:  Loss:  0.400753  Accuracy:  0.6802\n",
      "Epoch 34, CIFAR-10 Batch 3:  Loss:  0.295008  Accuracy:  0.683\n",
      "Epoch 34, CIFAR-10 Batch 4:  Loss:  0.319869  Accuracy:  0.6682\n",
      "Epoch 34, CIFAR-10 Batch 5:  Loss:  0.314195  Accuracy:  0.6768\n",
      "Epoch 35, CIFAR-10 Batch 1:  Loss:  0.392755  Accuracy:  0.6716\n",
      "Epoch 35, CIFAR-10 Batch 2:  Loss:  0.397796  Accuracy:  0.6748\n",
      "Epoch 35, CIFAR-10 Batch 3:  Loss:  0.299662  Accuracy:  0.6796\n",
      "Epoch 35, CIFAR-10 Batch 4:  Loss:  0.318869  Accuracy:  0.6688\n",
      "Epoch 35, CIFAR-10 Batch 5:  Loss:  0.307251  Accuracy:  0.664\n",
      "Epoch 36, CIFAR-10 Batch 1:  Loss:  0.385133  Accuracy:  0.6718\n",
      "Epoch 36, CIFAR-10 Batch 2:  Loss:  0.370266  Accuracy:  0.6738\n",
      "Epoch 36, CIFAR-10 Batch 3:  Loss:  0.294913  Accuracy:  0.6718\n",
      "Epoch 36, CIFAR-10 Batch 4:  Loss:  0.30506  Accuracy:  0.662\n",
      "Epoch 36, CIFAR-10 Batch 5:  Loss:  0.292329  Accuracy:  0.6684\n",
      "Epoch 37, CIFAR-10 Batch 1:  Loss:  0.338119  Accuracy:  0.6818\n",
      "Epoch 37, CIFAR-10 Batch 2:  Loss:  0.36997  Accuracy:  0.674\n",
      "Epoch 37, CIFAR-10 Batch 3:  Loss:  0.317062  Accuracy:  0.665\n",
      "Epoch 37, CIFAR-10 Batch 4:  Loss:  0.300907  Accuracy:  0.673\n",
      "Epoch 37, CIFAR-10 Batch 5:  Loss:  0.285254  Accuracy:  0.675\n",
      "Epoch 38, CIFAR-10 Batch 1:  Loss:  0.34844  Accuracy:  0.6742\n",
      "Epoch 38, CIFAR-10 Batch 2:  Loss:  0.335041  Accuracy:  0.6704\n",
      "Epoch 38, CIFAR-10 Batch 3:  Loss:  0.279404  Accuracy:  0.6724\n",
      "Epoch 38, CIFAR-10 Batch 4:  Loss:  0.289351  Accuracy:  0.6692\n",
      "Epoch 38, CIFAR-10 Batch 5:  Loss:  0.28537  Accuracy:  0.6682\n",
      "Epoch 39, CIFAR-10 Batch 1:  Loss:  0.376026  Accuracy:  0.6694\n",
      "Epoch 39, CIFAR-10 Batch 2:  Loss:  0.349124  Accuracy:  0.6656\n",
      "Epoch 39, CIFAR-10 Batch 3:  Loss:  0.308886  Accuracy:  0.6702\n",
      "Epoch 39, CIFAR-10 Batch 4:  Loss:  0.304207  Accuracy:  0.6628\n",
      "Epoch 39, CIFAR-10 Batch 5:  Loss:  0.294748  Accuracy:  0.6584\n",
      "Epoch 40, CIFAR-10 Batch 1:  Loss:  0.347042  Accuracy:  0.6782\n",
      "Epoch 40, CIFAR-10 Batch 2:  Loss:  0.345096  Accuracy:  0.6706\n",
      "Epoch 40, CIFAR-10 Batch 3:  Loss:  0.25822  Accuracy:  0.673\n",
      "Epoch 40, CIFAR-10 Batch 4:  Loss:  0.280265  Accuracy:  0.6658\n",
      "Epoch 40, CIFAR-10 Batch 5:  Loss:  0.282276  Accuracy:  0.6752\n",
      "Epoch 41, CIFAR-10 Batch 1:  Loss:  0.339412  Accuracy:  0.6764\n",
      "Epoch 41, CIFAR-10 Batch 2:  Loss:  0.324136  Accuracy:  0.6782\n",
      "Epoch 41, CIFAR-10 Batch 3:  Loss:  0.278932  Accuracy:  0.6682\n",
      "Epoch 41, CIFAR-10 Batch 4:  Loss:  0.322594  Accuracy:  0.6574\n",
      "Epoch 41, CIFAR-10 Batch 5:  Loss:  0.255569  Accuracy:  0.6782\n",
      "Epoch 42, CIFAR-10 Batch 1:  Loss:  0.334193  Accuracy:  0.6614\n",
      "Epoch 42, CIFAR-10 Batch 2:  Loss:  0.370872  Accuracy:  0.668\n",
      "Epoch 42, CIFAR-10 Batch 3:  Loss:  0.265492  Accuracy:  0.6788\n",
      "Epoch 42, CIFAR-10 Batch 4:  Loss:  0.330244  Accuracy:  0.6474\n",
      "Epoch 42, CIFAR-10 Batch 5:  Loss:  0.280883  Accuracy:  0.687\n",
      "Epoch 43, CIFAR-10 Batch 1:  Loss:  0.326365  Accuracy:  0.6668\n",
      "Epoch 43, CIFAR-10 Batch 2:  Loss:  0.349909  Accuracy:  0.6612\n",
      "Epoch 43, CIFAR-10 Batch 3:  Loss:  0.251667  Accuracy:  0.6792\n",
      "Epoch 43, CIFAR-10 Batch 4:  Loss:  0.247716  Accuracy:  0.6706\n",
      "Epoch 43, CIFAR-10 Batch 5:  Loss:  0.232198  Accuracy:  0.6674\n",
      "Epoch 44, CIFAR-10 Batch 1:  Loss:  0.325766  Accuracy:  0.6708\n",
      "Epoch 44, CIFAR-10 Batch 2:  Loss:  0.335727  Accuracy:  0.6656\n",
      "Epoch 44, CIFAR-10 Batch 3:  Loss:  0.251018  Accuracy:  0.6768\n",
      "Epoch 44, CIFAR-10 Batch 4:  Loss:  0.273667  Accuracy:  0.6674\n",
      "Epoch 44, CIFAR-10 Batch 5:  Loss:  0.221678  Accuracy:  0.6824\n",
      "Epoch 45, CIFAR-10 Batch 1:  Loss:  0.314732  Accuracy:  0.6666\n",
      "Epoch 45, CIFAR-10 Batch 2:  Loss:  0.300467  Accuracy:  0.6828\n",
      "Epoch 45, CIFAR-10 Batch 3:  Loss:  0.226158  Accuracy:  0.6788\n",
      "Epoch 45, CIFAR-10 Batch 4:  Loss:  0.252236  Accuracy:  0.6718\n",
      "Epoch 45, CIFAR-10 Batch 5:  Loss:  0.219913  Accuracy:  0.6768\n"
     ]
    }
   ],
   "source": [
    "\"\"\"\n",
    "DON'T MODIFY ANYTHING IN THIS CELL\n",
    "\"\"\"\n",
    "save_model_path = './image_classification'\n",
    "\n",
    "print('Training...')\n",
    "with tf.Session() as sess:\n",
    "    # Initializing the variables\n",
    "    sess.run(tf.global_variables_initializer())\n",
    "    \n",
    "    # Training cycle\n",
    "    for epoch in range(epochs):\n",
    "        # Loop over all batches\n",
    "        n_batches = 5\n",
    "        for batch_i in range(1, n_batches + 1):\n",
    "            for batch_features, batch_labels in helper.load_preprocess_training_batch(batch_i, batch_size):\n",
    "                train_neural_network(sess, optimizer, keep_probability, batch_features, batch_labels)\n",
    "            print('Epoch {:>2}, CIFAR-10 Batch {}:  '.format(epoch + 1, batch_i), end='')\n",
    "            print_stats(sess, batch_features, batch_labels, cost, accuracy)\n",
    "            \n",
    "    # Save Model\n",
    "    saver = tf.train.Saver()\n",
    "    save_path = saver.save(sess, save_model_path)"
   ]
  },
  {
   "cell_type": "markdown",
   "metadata": {
    "deletable": true,
    "editable": true
   },
   "source": [
    "# Checkpoint\n",
    "The model has been saved to disk.\n",
    "## Test Model\n",
    "Test your model against the test dataset.  This will be your final accuracy. You should have an accuracy greater than 50%. If you don't, keep tweaking the model architecture and parameters."
   ]
  },
  {
   "cell_type": "code",
   "execution_count": 18,
   "metadata": {
    "collapsed": false,
    "deletable": true,
    "editable": true
   },
   "outputs": [
    {
     "name": "stdout",
     "output_type": "stream",
     "text": [
      "Testing Accuracy: 0.673121553659439\n",
      "\n"
     ]
    },
    {
     "data": {
      "image/png": "[encoded data removed]",
      "text/plain": [
       "<matplotlib.figure.Figure at 0x110e95390>"
      ]
     },
     "metadata": {
      "image/png": {
       "height": 319,
       "width": 355
      }
     },
     "output_type": "display_data"
    }
   ],
   "source": [
    "\"\"\"\n",
    "DON'T MODIFY ANYTHING IN THIS CELL\n",
    "\"\"\"\n",
    "%matplotlib inline\n",
    "%config InlineBackend.figure_format = 'retina'\n",
    "\n",
    "import tensorflow as tf\n",
    "import pickle\n",
    "import helper\n",
    "import random\n",
    "\n",
    "# Set batch size if not already set\n",
    "try:\n",
    "    if batch_size:\n",
    "        pass\n",
    "except NameError:\n",
    "    batch_size = 64\n",
    "\n",
    "save_model_path = './image_classification'\n",
    "n_samples = 4\n",
    "top_n_predictions = 3\n",
    "\n",
    "def test_model():\n",
    "    \"\"\"\n",
    "    Test the saved model against the test dataset\n",
    "    \"\"\"\n",
    "\n",
    "    test_features, test_labels = pickle.load(open('preprocess_training.p', mode='rb'))\n",
    "    loaded_graph = tf.Graph()\n",
    "\n",
    "    with tf.Session(graph=loaded_graph) as sess:\n",
    "        # Load model\n",
    "        loader = tf.train.import_meta_graph(save_model_path + '.meta')\n",
    "        loader.restore(sess, save_model_path)\n",
    "\n",
    "        # Get Tensors from loaded model\n",
    "        loaded_x = loaded_graph.get_tensor_by_name('x:0')\n",
    "        loaded_y = loaded_graph.get_tensor_by_name('y:0')\n",
    "        loaded_keep_prob = loaded_graph.get_tensor_by_name('keep_prob:0')\n",
    "        loaded_logits = loaded_graph.get_tensor_by_name('logits:0')\n",
    "        loaded_acc = loaded_graph.get_tensor_by_name('accuracy:0')\n",
    "        \n",
    "        # Get accuracy in batches for memory limitations\n",
    "        test_batch_acc_total = 0\n",
    "        test_batch_count = 0\n",
    "        \n",
    "        for train_feature_batch, train_label_batch in helper.batch_features_labels(test_features, test_labels, batch_size):\n",
    "            test_batch_acc_total += sess.run(\n",
    "                loaded_acc,\n",
    "                feed_dict={loaded_x: train_feature_batch, loaded_y: train_label_batch, loaded_keep_prob: 1.0})\n",
    "            test_batch_count += 1\n",
    "\n",
    "        print('Testing Accuracy: {}\\n'.format(test_batch_acc_total/test_batch_count))\n",
    "\n",
    "        # Print Random Samples\n",
    "        random_test_features, random_test_labels = tuple(zip(*random.sample(list(zip(test_features, test_labels)), n_samples)))\n",
    "        random_test_predictions = sess.run(\n",
    "            tf.nn.top_k(tf.nn.softmax(loaded_logits), top_n_predictions),\n",
    "            feed_dict={loaded_x: random_test_features, loaded_y: random_test_labels, loaded_keep_prob: 1.0})\n",
    "        helper.display_image_predictions(random_test_features, random_test_labels, random_test_predictions)\n",
    "\n",
    "\n",
    "test_model()"
   ]
  },
  {
   "cell_type": "markdown",
   "metadata": {
    "deletable": true,
    "editable": true
   },
   "source": [
    "## Why 50-70% Accuracy?\n",
    "You might be wondering why you can't get an accuracy any higher. First things first, 50% isn't bad for a simple CNN.  Pure guessing would get you 10% accuracy. However, you might notice people are getting scores [well above 70%](http://rodrigob.github.io/are_we_there_yet/build/classification_datasets_results.html#43494641522d3130).  That's because we haven't taught you all there is to know about neural networks. We still need to cover a few more techniques.\n",
    "## Submitting This Project\n",
    "When submitting this project, make sure to run all the cells before saving the notebook.  Save the notebook file as \"dlnd_image_classification.ipynb\" and save it as a HTML file under \"File\" -> \"Download as\".  Include the \"helper.py\" and \"problem_unittests.py\" files in your submission."
   ]
  }
 ],
 "metadata": {
  "anaconda-cloud": {},
  "kernelspec": {
   "display_name": "Python 3",
   "language": "python",
   "name": "python3"
  },
  "language_info": {
   "codemirror_mode": {
    "name": "ipython",
    "version": 3
   },
   "file_extension": ".py",
   "mimetype": "text/x-python",
   "name": "python",
   "nbconvert_exporter": "python",
   "pygments_lexer": "ipython3",
   "version": "3.6.0"
  }
 },
 "nbformat": 4,
 "nbformat_minor": 0
}
